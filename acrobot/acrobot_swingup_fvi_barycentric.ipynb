{
 "cells": [
  {
   "cell_type": "code",
   "execution_count": 1,
   "metadata": {},
   "outputs": [],
   "source": [
    "import matplotlib.pyplot as plt\n",
    "import numpy as np\n",
    "from matplotlib import cm\n",
    "from pydrake.all import (DiagramBuilder, DynamicProgrammingOptions, FittedValueIteration, \n",
    "                         PeriodicBoundaryCondition, SceneGraph, Simulator,WrapToSystem,\n",
    "                         StartMeshcat, ConnectMeshcatVisualizer)"
   ]
  },
  {
   "cell_type": "code",
   "execution_count": 2,
   "metadata": {},
   "outputs": [],
   "source": [
    "from pydrake.examples.acrobot import AcrobotGeometry, AcrobotPlant, AcrobotParams\n",
    "from meshcat.servers.zmqserver import start_zmq_server_as_subprocess"
   ]
  },
  {
   "cell_type": "code",
   "execution_count": 4,
   "metadata": {},
   "outputs": [],
   "source": [
    "def acrobot_swingup_example():\n",
    "    plant = AcrobotPlant()\n",
    "    context = plant.CreateDefaultContext()\n",
    "    plant_params = plant.get_parameters(context)\n",
    "    plant_params.set_b1(0)\n",
    "    plant_params.set_b2(0)\n",
    "    simulator = Simulator(plant)\n",
    "    options = DynamicProgrammingOptions()\n",
    "    n_mesh = 41\n",
    "    q1bins = np.linspace(0., 2. * np.pi, n_mesh)\n",
    "    q2bins = np.linspace(-np.pi/2, np.pi/2, int(n_mesh/2))\n",
    "    qdotbins = np.linspace(-3., 3., int(n_mesh/2))\n",
    "    state_grid = [set(q1bins), set(q2bins), set(qdotbins), set(qdotbins)]\n",
    "    options.periodic_boundary_conditions = [\n",
    "        PeriodicBoundaryCondition(0, 0., 2. * np.pi),\n",
    "    ]\n",
    "    options.discount_factor = .999\n",
    "    input_limit = 3.\n",
    "    input_grid = [set(np.linspace(-input_limit, input_limit, 9))]\n",
    "    timestep = 0.01\n",
    "    \n",
    "    def quadratic_regulator_cost(context):\n",
    "        x = context.get_continuous_state_vector().CopyToVector()\n",
    "        x[0] = x[0] - np.pi\n",
    "        u = plant.EvalVectorInput(context, 0).CopyToVector()\n",
    "        return 2 * x.dot(x) + u.dot(u)\n",
    "\n",
    "    cost_function = quadratic_regulator_cost\n",
    "    options.convergence_tol = 0.1\n",
    "    policy, cost_to_go = FittedValueIteration(simulator, cost_function,\n",
    "                                              state_grid, input_grid, timestep,\n",
    "                                              options)\n",
    "    J = np.reshape(cost_to_go, (n_mesh, int(n_mesh/2), int(n_mesh/2), int(n_mesh/2)))\n",
    "    # np.save(\"pendulum_swingup/data/acrobot/J_mesh_{}\".format(n_mesh), J)\n",
    "\n",
    "    # plot_surface(meshcat, 'Cost-to-go', Q1, Q2, J[:, :, 0, 0], wireframe=True)\n",
    "    fig = plt.figure(figsize=(9, 4))\n",
    "    ax1, ax2 = fig.subplots(1, 2)\n",
    "    ax1.set_xlabel(\"q1\")\n",
    "    ax1.set_ylabel(\"q2\")\n",
    "    ax1.set_title(\"Cost-to-Go\")\n",
    "    ax2.set_xlabel(\"q1\")\n",
    "    ax2.set_ylabel(\"q2\")\n",
    "    ax2.set_title(\"Policy\")\n",
    "    im1 = ax1.imshow(J[:, :, 0, 0],\n",
    "               cmap=cm.jet, aspect='auto',\n",
    "               extent=(q1bins[0], q1bins[-1], q2bins[-1], q2bins[0]))\n",
    "    ax1.invert_yaxis()\n",
    "    fig.colorbar(im1)\n",
    "    Pi = np.reshape(policy.get_output_values(), (n_mesh, int(n_mesh/2), int(n_mesh/2), int(n_mesh/2)))\n",
    "    im2 = ax2.imshow(Pi[:, :, 0, 0],\n",
    "               cmap=cm.jet, aspect='auto',\n",
    "               extent=(q1bins[0], q1bins[-1], q2bins[-1], q2bins[0]))\n",
    "    ax2.invert_yaxis()\n",
    "    fig.colorbar(im2)\n",
    "    plt.show()\n",
    "    plt.savefig(\"acrobot_optimal_cost_to_go.png\")\n",
    "    return policy, cost_to_go"
   ]
  },
  {
   "cell_type": "code",
   "execution_count": 5,
   "metadata": {},
   "outputs": [],
   "source": [
    "def simulate(policy):\n",
    "    # Animate the resulting policy.\n",
    "    builder = DiagramBuilder()\n",
    "    plant = AcrobotPlant()\n",
    "    context = plant.CreateDefaultContext()\n",
    "    plant_params = plant.get_parameters(context)\n",
    "    plant_params.set_b1(0)\n",
    "    plant_params.set_b2(0)\n",
    "    acrobot = builder.AddSystem(plant)\n",
    "    wrap = builder.AddSystem(WrapToSystem(4))\n",
    "    wrap.set_interval(0, 0, 2*np.pi)\n",
    "    builder.Connect(acrobot.get_output_port(0), wrap.get_input_port(0))\n",
    "    vi_policy = builder.AddSystem(policy)\n",
    "    builder.Connect(wrap.get_output_port(0), vi_policy.get_input_port(0))\n",
    "    builder.Connect(vi_policy.get_output_port(0),\n",
    "                    acrobot.get_input_port(0))\n",
    "\n",
    "    # Setup visualization\n",
    "    scene_graph = builder.AddSystem(SceneGraph())\n",
    "    AcrobotGeometry.AddToBuilder(builder, acrobot.get_output_port(0),\n",
    "                                scene_graph)\n",
    "    proc, zmq_url, web_url = start_zmq_server_as_subprocess(server_args=[])\n",
    "    viz = ConnectMeshcatVisualizer(builder, scene_graph, zmq_url=zmq_url)\n",
    "    diagram = builder.Build()\n",
    "    simulator = Simulator(diagram)\n",
    "    simulator.get_mutable_context().SetContinuousState([np.pi-0.01, 0.0, 0, 0])\n",
    "    viz.start_recording()\n",
    "    simulator.AdvanceTo(5)\n",
    "    viz.publish_recording()"
   ]
  },
  {
   "cell_type": "code",
   "execution_count": 6,
   "metadata": {},
   "outputs": [
    {
     "name": "stderr",
     "output_type": "stream",
     "text": [
      "INFO:drake:Computing transition and cost matrices.\n",
      "INFO:drake:Done computing transition and cost matrices.\n",
      "INFO:drake:Running value iteration.\n",
      "INFO:drake:Value iteration converged to requested tolerance.\n"
     ]
    },
    {
     "data": {
      "image/png": "[encoded data removed]",
      "text/plain": [
       "<Figure size 648x288 with 4 Axes>"
      ]
     },
     "metadata": {
      "needs_background": "light"
     },
     "output_type": "display_data"
    },
    {
     "data": {
      "text/plain": [
       "<Figure size 432x288 with 0 Axes>"
      ]
     },
     "metadata": {},
     "output_type": "display_data"
    }
   ],
   "source": [
    "policy, cost_to_go = acrobot_swingup_example()"
   ]
  },
  {
   "cell_type": "code",
   "execution_count": 7,
   "metadata": {},
   "outputs": [
    {
     "name": "stdout",
     "output_type": "stream",
     "text": [
      "Simulating...\n",
      "Connecting to meshcat-server at zmq_url=tcp://127.0.0.1:6002...\n",
      "You can open the visualizer by visiting the following URL:\n",
      "http://127.0.0.1:7002/static/\n",
      "Connected to meshcat-server.\n"
     ]
    }
   ],
   "source": [
    "print('Simulating...')\n",
    "simulate(policy)"
   ]
  },
  {
   "cell_type": "code",
   "execution_count": null,
   "metadata": {},
   "outputs": [],
   "source": []
  }
 ],
 "metadata": {
  "kernelspec": {
   "display_name": "Python 3 (ipykernel)",
   "language": "python",
   "name": "python3"
  },
  "language_info": {
   "codemirror_mode": {
    "name": "ipython",
    "version": 3
   },
   "file_extension": ".py",
   "mimetype": "text/x-python",
   "name": "python",
   "nbconvert_exporter": "python",
   "pygments_lexer": "ipython3",
   "version": "3.8.10"
  }
 },
 "nbformat": 4,
 "nbformat_minor": 2
}
