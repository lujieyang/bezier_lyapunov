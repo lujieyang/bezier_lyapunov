{
 "cells": [
  {
   "cell_type": "code",
   "execution_count": null,
   "metadata": {},
   "outputs": [],
   "source": [
    "import sys\n",
    "sys.path.append(\"../../underactuated\")"
   ]
  },
  {
   "cell_type": "code",
   "execution_count": null,
   "metadata": {},
   "outputs": [],
   "source": [
    "import numpy as np\n",
    "from utils import calc_u_opt\n",
    "from acrobot_swingup_fvi import convex_sampling_hjb_lower_bound, acrobot_setup\n",
    "from pydrake.examples.acrobot import (AcrobotPlant, AcrobotGeometry)\n",
    "from pydrake.all import (DiagramBuilder, Simulator, WrapToSystem, LeafSystem,\n",
    "                         BasicVector, StartMeshcat, SceneGraph, MeshcatVisualizerCpp,\n",
    "                         Expression, ConnectMeshcatVisualizer)\n",
    "from meshcat.servers.zmqserver import start_zmq_server_as_subprocess\n",
    "import meshcat"
   ]
  },
  {
   "cell_type": "code",
   "execution_count": null,
   "metadata": {},
   "outputs": [],
   "source": [
    "class Controller(LeafSystem):\n",
    "    def __init__(self, u_star, z, plant, params_dict, J_star):\n",
    "        LeafSystem.__init__(self)\n",
    "        self.plant = plant\n",
    "        self.context = plant.CreateDefaultContext()\n",
    "        self.x_dim = 4\n",
    "        self.u_dim = 1\n",
    "        self.nz = params_dict[\"nz\"]\n",
    "        self.x2z = params_dict[\"x2z\"]\n",
    "        self.Minv = params_dict[\"Minv\"]\n",
    "        self.T = params_dict[\"T\"]\n",
    "        self.f = params_dict[\"f\"]\n",
    "        self.l = params_dict[\"l\"]\n",
    "        self.f2 = params_dict[\"f2\"]\n",
    "        J_star_expr = J_star.ToExpression()\n",
    "        self.dJdz = J_star_expr.Jacobian(z)\n",
    "        self.z = z\n",
    "        \n",
    "        self.state_input_port = self.DeclareVectorInputPort(\n",
    "            \"state\", BasicVector(self.x_dim))\n",
    "        self.policy_output_port = self.DeclareVectorOutputPort(\n",
    "            \"policy\", BasicVector(self.u_dim), self.CalculateController)\n",
    "    def CalculateController(self, context, output):\n",
    "        x = self.state_input_port.Eval(context)\n",
    "        z_val = self.x2z(x)\n",
    "        y = output.get_mutable_value()\n",
    "        Minv_val = self.Minv(x)\n",
    "        T_val = self.T(z_val)\n",
    "        f2_val = self.f2(Minv_val, T_val)\n",
    "        dJdz_val = np.zeros(self.nz, dtype=Expression)\n",
    "        for n in range(self.nz): \n",
    "            dJdz_val[n] = self.dJdz[n].Evaluate(dict(zip(z, z_val)))\n",
    "        u_opt = calc_u_opt(dJdz_val, f2_val, params_dict[\"Rinv\"])\n",
    "        y[:]  = u_opt\n",
    "        print(u_opt)"
   ]
  },
  {
   "cell_type": "code",
   "execution_count": null,
   "metadata": {},
   "outputs": [],
   "source": [
    "def simulate(J_star, z, params_dict):\n",
    "    # Animate the resulting policy.\n",
    "    builder = DiagramBuilder()\n",
    "    plant = AcrobotPlant()\n",
    "    acrobot = builder.AddSystem(plant)\n",
    "    wrap = builder.AddSystem(WrapToSystem(4))\n",
    "    wrap.set_interval(0, 0, 2*np.pi)\n",
    "    builder.Connect(acrobot.get_output_port(0), wrap.get_input_port(0))\n",
    "    vi_policy = Controller(J_star, z, acrobot, params_dict,J_star)\n",
    "    builder.AddSystem(vi_policy)\n",
    "    builder.Connect(wrap.get_output_port(0), vi_policy.get_input_port(0))\n",
    "    builder.Connect(vi_policy.get_output_port(0),\n",
    "                    acrobot.get_input_port(0))\n",
    "\n",
    "    # Setup visualization\n",
    "    scene_graph = builder.AddSystem(SceneGraph())\n",
    "    AcrobotGeometry.AddToBuilder(builder, acrobot.get_output_port(0),\n",
    "                                scene_graph)\n",
    "\n",
    "    proc, zmq_url, web_url = start_zmq_server_as_subprocess(server_args=[])\n",
    "    viz = ConnectMeshcatVisualizer(builder, scene_graph, zmq_url=zmq_url)\n",
    "    set_orthographic_camera_xy(viz.vis)\n",
    "    diagram = builder.Build()\n",
    "    simulator = Simulator(diagram)\n",
    "    context = simulator.get_mutable_context()\n",
    "    acrobot_context = acrobot.GetMyMutableContextFromRoot(context)\n",
    "    acrobot_params = plant.get_parameters(acrobot_context)\n",
    "    acrobot_params.set_b1(0)\n",
    "    acrobot_params.set_b2(0)\n",
    "    context.SetContinuousState([0.1, 0, 0, 0])\n",
    "    viz.start_recording()\n",
    "    simulator.AdvanceTo(2)\n",
    "    viz.publish_recording()"
   ]
  },
  {
   "cell_type": "code",
   "execution_count": null,
   "metadata": {},
   "outputs": [],
   "source": [
    "def set_orthographic_camera_xy(vis: meshcat.Visualizer) -> None:\n",
    "    # use orthographic camera, show XY plane.\n",
    "    camera = meshcat.geometry.OrthographicCamera(\n",
    "        left=-1, right=0.5, bottom=-0.5, top=1, near=-1000, far=1000)\n",
    "    vis['/Cameras/default/rotated'].set_object(camera)"
   ]
  },
  {
   "cell_type": "code",
   "execution_count": null,
   "metadata": {},
   "outputs": [],
   "source": [
    "params_dict = acrobot_setup()\n",
    "J_star, z = convex_sampling_hjb_lower_bound(2, params_dict, objective=\"integrate_ring\", visualize=False)"
   ]
  },
  {
   "cell_type": "code",
   "execution_count": null,
   "metadata": {},
   "outputs": [],
   "source": [
    "simulate(J_star, z, params_dict)"
   ]
  }
 ],
 "metadata": {
  "kernelspec": {
   "display_name": "Python 3 (ipykernel)",
   "language": "python",
   "name": "python3"
  },
  "language_info": {
   "codemirror_mode": {
    "name": "ipython",
    "version": 3
   },
   "file_extension": ".py",
   "mimetype": "text/x-python",
   "name": "python",
   "nbconvert_exporter": "python",
   "pygments_lexer": "ipython3",
   "version": "3.8.8"
  }
 },
 "nbformat": 4,
 "nbformat_minor": 2
}
