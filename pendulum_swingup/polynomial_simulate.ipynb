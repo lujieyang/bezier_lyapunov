{
 "cells": [
  {
   "cell_type": "code",
   "execution_count": null,
   "metadata": {},
   "outputs": [],
   "source": [
    "import sys\n",
    "sys.path.append(\"../underactuated\")"
   ]
  },
  {
   "cell_type": "code",
   "execution_count": null,
   "metadata": {},
   "outputs": [],
   "source": [
    "import numpy as np\n",
    "\n",
    "from polynomial_fvi import *\n",
    "from pydrake.examples.pendulum import (PendulumPlant)\n",
    "from pydrake.all import (DiagramBuilder, Simulator, WrapToSystem, LeafSystem,\n",
    "                         BasicVector)\n",
    "from underactuated.pendulum import PendulumVisualizer\n",
    "from underactuated.jupyter import AdvanceToAndVisualize"
   ]
  },
  {
   "cell_type": "code",
   "execution_count": null,
   "metadata": {},
   "outputs": [],
   "source": [
    "class Controller(LeafSystem):\n",
    "    def __init__(self, J, plant, params_dict):\n",
    "        LeafSystem.__init__(self)\n",
    "        self.plant = plant\n",
    "        self.context = plant.CreateDefaultContext()\n",
    "        self.x_dim = 2\n",
    "        self.u_dim = 1\n",
    "        self.x2z = params_dict[\"x2z\"]\n",
    "        self.J = J\n",
    "        self.poly_func = lambda t, i, n: monomial(t, i, n)\n",
    "\n",
    "        self.state_input_port = self.DeclareVectorInputPort(\n",
    "            \"state\", BasicVector(self.x_dim))\n",
    "\n",
    "        self.policy_output_port = self.DeclareVectorOutputPort(\n",
    "            \"policy\", BasicVector(self.u_dim), self.CalculateController)\n",
    "\n",
    "    def CalculateController(self, context, output):\n",
    "        state = self.state_input_port.Eval(context)\n",
    "        # In polynomial_fvi, the axis is pointing upwards; the pendulum plant\n",
    "        # has the axis pointing downwards.\n",
    "        state[0] = state[0] + np.pi\n",
    "        z = self.x2z(state)\n",
    "        y = output.get_mutable_value()\n",
    "        dJdz_expr, z_var = calc_dJdz(self.J, self.poly_func, params_dict)\n",
    "        y[:]  = calc_u_opt(dJdz_expr, z_var, z, params_dict)\n",
    "        print(\"v: \", state[1])"
   ]
  },
  {
   "cell_type": "code",
   "execution_count": null,
   "metadata": {},
   "outputs": [],
   "source": [
    "def simulate(J, params_dict):\n",
    "    # Animate the resulting policy.\n",
    "    builder = DiagramBuilder()\n",
    "    pendulum = builder.AddSystem(PendulumPlant())\n",
    "\n",
    "    wrap = builder.AddSystem(WrapToSystem(2))\n",
    "    wrap.set_interval(0, 0, 2*np.pi)\n",
    "    builder.Connect(pendulum.get_output_port(0), wrap.get_input_port(0))\n",
    "    vi_policy = Controller(J, pendulum, params_dict)\n",
    "    builder.AddSystem(vi_policy)\n",
    "    builder.Connect(wrap.get_output_port(0), vi_policy.get_input_port(0))\n",
    "    builder.Connect(vi_policy.get_output_port(0),\n",
    "                    pendulum.get_input_port(0))\n",
    "\n",
    "    visualizer = builder.AddSystem(\n",
    "        PendulumVisualizer(show=False))\n",
    "    builder.Connect(pendulum.get_output_port(0),\n",
    "                    visualizer.get_input_port(0))\n",
    "\n",
    "    diagram = builder.Build()\n",
    "    simulator = Simulator(diagram)\n",
    "    simulator.get_mutable_context().SetContinuousState([0.1, 0.0])\n",
    "\n",
    "    AdvanceToAndVisualize(simulator, visualizer, 12)"
   ]
  },
  {
   "cell_type": "code",
   "execution_count": null,
   "metadata": {},
   "outputs": [],
   "source": [
    "method = LSTSQ\n",
    "poly_type = MONOMIAL\n",
    "deg = 2\n",
    "dt = 0.01\n",
    "J = np.load(\"pendulum_swingup/{}/{}/J_{}_{}.npy\".format(method, poly_type, deg, dt))\n",
    "params_dict = pendulum_setup(poly_type)\n",
    "simulate(J, params_dict)"
   ]
  }
 ],
 "metadata": {
  "interpreter": {
   "hash": "31f2aee4e71d21fbe5cf8b01ff0e069b9275f58929596ceb00d14d90e3e16cd6"
  },
  "kernelspec": {
   "display_name": "Python 3.8.2 64-bit",
   "language": "python",
   "name": "python3"
  },
  "language_info": {
   "codemirror_mode": {
    "name": "ipython",
    "version": 3
   },
   "file_extension": ".py",
   "mimetype": "text/x-python",
   "name": "python",
   "nbconvert_exporter": "python",
   "pygments_lexer": "ipython3",
   "version": "3.8.10"
  },
  "orig_nbformat": 4
 },
 "nbformat": 4,
 "nbformat_minor": 2
}
