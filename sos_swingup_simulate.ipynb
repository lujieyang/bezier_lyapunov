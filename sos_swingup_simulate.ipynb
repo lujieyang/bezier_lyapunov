{
 "cells": [
  {
   "cell_type": "code",
   "execution_count": null,
   "metadata": {},
   "outputs": [],
   "source": [
    "import sys\n",
    "sys.path.append(\"../underactuated\")\n",
    "\n",
    "import numpy as np\n",
    "\n",
    "from sos_swingup import *\n",
    "from polynomial_fvi import pendulum_setup\n",
    "from pydrake.examples.pendulum import (PendulumPlant)\n",
    "from pydrake.all import (DiagramBuilder, Simulator, WrapToSystem, LeafSystem,\n",
    "                         BasicVector)\n",
    "from underactuated.pendulum import PendulumVisualizer\n",
    "from underactuated.jupyter import AdvanceToAndVisualize"
   ]
  },
  {
   "cell_type": "code",
   "execution_count": null,
   "metadata": {},
   "outputs": [],
   "source": [
    "class Controller(LeafSystem):\n",
    "    def __init__(self, u_star, z, plant, params_dict, J_star):\n",
    "        LeafSystem.__init__(self)\n",
    "        self.plant = plant\n",
    "        self.context = plant.CreateDefaultContext()\n",
    "        self.x_dim = 2\n",
    "        self.u_dim = 1\n",
    "        self.x2z = params_dict[\"x2z\"]\n",
    "        self.u_star = u_star\n",
    "        self.J_star = J_star\n",
    "        self.z = z\n",
    "\n",
    "        self.state_input_port = self.DeclareVectorInputPort(\n",
    "            \"state\", BasicVector(self.x_dim))\n",
    "\n",
    "        self.policy_output_port = self.DeclareVectorOutputPort(\n",
    "            \"policy\", BasicVector(self.u_dim), self.CalculateController)\n",
    "\n",
    "    def CalculateController(self, context, output):\n",
    "        state = self.state_input_port.Eval(context)\n",
    "        state[0] = state[0] + np.pi\n",
    "        z_value = self.x2z(state)\n",
    "        y = output.get_mutable_value()\n",
    "        y[:]  = -u_star[0].Evaluate({z[0]: z_value[0], z[1]: z_value[1], z[2]: z_value[2]})"
   ]
  },
  {
   "cell_type": "code",
   "execution_count": null,
   "metadata": {},
   "outputs": [],
   "source": [
    "def simulate(u_star, z, params_dict):\n",
    "    # Animate the resulting policy.\n",
    "    builder = DiagramBuilder()\n",
    "    pendulum = builder.AddSystem(PendulumPlant())\n",
    "\n",
    "    wrap = builder.AddSystem(WrapToSystem(2))\n",
    "    wrap.set_interval(0, 0, 2*np.pi)\n",
    "    builder.Connect(pendulum.get_output_port(0), wrap.get_input_port(0))\n",
    "    vi_policy = Controller(u_star, z, pendulum, params_dict,J_star)\n",
    "    builder.AddSystem(vi_policy)\n",
    "    builder.Connect(wrap.get_output_port(0), vi_policy.get_input_port(0))\n",
    "    builder.Connect(vi_policy.get_output_port(0),\n",
    "                    pendulum.get_input_port(0))\n",
    "\n",
    "    visualizer = builder.AddSystem(\n",
    "        PendulumVisualizer(show=False))\n",
    "    builder.Connect(pendulum.get_output_port(0),\n",
    "                    visualizer.get_input_port(0))\n",
    "\n",
    "    diagram = builder.Build()\n",
    "    simulator = Simulator(diagram)\n",
    "    simulator.get_mutable_context().SetContinuousState([0.5, 0])\n",
    "\n",
    "    AdvanceToAndVisualize(simulator, visualizer, 8)"
   ]
  },
  {
   "cell_type": "code",
   "execution_count": null,
   "metadata": {},
   "outputs": [],
   "source": [
    "J_star, u_star, z = pendulum_sos_dp(deg=14)"
   ]
  },
  {
   "cell_type": "code",
   "execution_count": null,
   "metadata": {},
   "outputs": [],
   "source": [
    "params_dict = pendulum_setup(\"monomial\")\n",
    "simulate(u_star, z, params_dict)"
   ]
  },
  {
   "cell_type": "code",
   "execution_count": null,
   "metadata": {},
   "outputs": [],
   "source": []
  }
 ],
 "metadata": {
  "interpreter": {
   "hash": "e7370f93d1d0cde622a1f8e1c04877d8463912d04d973331ad4851f04de6915a"
  },
  "kernelspec": {
   "display_name": "Python 3.8.10 64-bit",
   "language": "python",
   "name": "python3"
  },
  "language_info": {
   "codemirror_mode": {
    "name": "ipython",
    "version": 3
   },
   "file_extension": ".py",
   "mimetype": "text/x-python",
   "name": "python",
   "nbconvert_exporter": "python",
   "pygments_lexer": "ipython3",
   "version": "3.8.10"
  },
  "orig_nbformat": 4
 },
 "nbformat": 4,
 "nbformat_minor": 2
}
